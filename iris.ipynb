{
 "cells": [
  {
   "cell_type": "markdown",
   "id": "f71ba79b",
   "metadata": {},
   "source": [
    "# Iris Flowers Classification"
   ]
  },
  {
   "cell_type": "code",
   "execution_count": 12,
   "id": "f95cdcee",
   "metadata": {},
   "outputs": [],
   "source": [
    "import tkinter as tk\n",
    "from tkinter import ttk\n",
    "from sklearn.datasets import load_iris\n",
    "from sklearn.tree import DecisionTreeClassifier\n",
    "from sklearn.metrics import accuracy_score"
   ]
  },
  {
   "cell_type": "code",
   "execution_count": 13,
   "id": "304cf98c",
   "metadata": {},
   "outputs": [],
   "source": [
    "class IrisClassifier(tk.Frame):\n",
    "    def __init__(self, master):\n",
    "        super().__init__(master)\n",
    "        self.master = master\n",
    "        self.master.title('Iris Flower Classifier')\n",
    "        self.create_widgets()\n",
    "\n",
    "    def create_widgets(self):\n",
    "        # Load the dataset\n",
    "        iris = load_iris()\n",
    "        self.X = iris.data\n",
    "        self.y = iris.target\n",
    "\n",
    "        # Create the decision tree classifier\n",
    "        self.dtc = DecisionTreeClassifier()\n",
    "\n",
    "        # Create the input labels and entries\n",
    "        sepal_length_label = ttk.Label(self, text='Sepal Length:')\n",
    "        sepal_length_label.grid(row=0, column=0, padx=5, pady=5)\n",
    "        self.sepal_length_entry = ttk.Entry(self)\n",
    "        self.sepal_length_entry.grid(row=0, column=1, padx=5, pady=5)\n",
    "\n",
    "        sepal_width_label = ttk.Label(self, text='Sepal Width:')\n",
    "        sepal_width_label.grid(row=1, column=0, padx=5, pady=5)\n",
    "        self.sepal_width_entry = ttk.Entry(self)\n",
    "        self.sepal_width_entry.grid(row=1, column=1, padx=5, pady=5)\n",
    "\n",
    "        petal_length_label = ttk.Label(self, text='Petal Length:')\n",
    "        petal_length_label.grid(row=2, column=0, padx=5, pady=5)\n",
    "        self.petal_length_entry = ttk.Entry(self)\n",
    "        self.petal_length_entry.grid(row=2, column=1, padx=5, pady=5)\n",
    "\n",
    "        petal_width_label = ttk.Label(self, text='Petal Width:')\n",
    "        petal_width_label.grid(row=3, column=0, padx=5, pady=5)\n",
    "        self.petal_width_entry = ttk.Entry(self)\n",
    "        self.petal_width_entry.grid(row=3, column=1, padx=5, pady=5)\n",
    "\n",
    "        # Create the predict button\n",
    "        predict_button = ttk.Button(self, text='Predict', command=self.predict)\n",
    "        predict_button.grid(row=4, column=0, columnspan=2, padx=5, pady=5)\n",
    "\n",
    "        # Create the output label\n",
    "        self.output_label = ttk.Label(self, text='')\n",
    "        self.output_label.grid(row=5, column=0, columnspan=2, padx=5, pady=5)\n",
    "\n",
    "    def predict(self):\n",
    "        # Get the input values\n",
    "        sepal_length = float(self.sepal_length_entry.get())\n",
    "        sepal_width = float(self.sepal_width_entry.get())\n",
    "        petal_length = float(self.petal_length_entry.get())\n",
    "        petal_width = float(self.petal_width_entry.get())\n",
    "\n",
    "        # Create the input array\n",
    "        input_data = [[sepal_length, sepal_width, petal_length, petal_width]]\n",
    "\n",
    "        # Train the classifier\n",
    "        self.dtc.fit(self.X, self.y)\n",
    "\n",
    "        # Make the prediction\n",
    "        prediction = self.dtc.predict(input_data)[0]\n",
    "\n",
    "        # Get the class name\n",
    "        class_names = ['setosa', 'versicolor', 'virginica']\n",
    "        predicted_class = class_names[prediction]\n",
    "\n",
    "        # Update the output label\n",
    "        self.output_label.config(text='Predicted Class: {}'.format(predicted_class))"
   ]
  },
  {
   "cell_type": "code",
   "execution_count": null,
   "id": "5a7deb83",
   "metadata": {},
   "outputs": [],
   "source": [
    "\n",
    "if __name__ == '__main__':\n",
    "    root = tk.Tk()\n",
    "    app = IrisClassifier(root)\n",
    "    app.pack()\n",
    "    root.mainloop()"
   ]
  },
  {
   "cell_type": "code",
   "execution_count": null,
   "id": "1f6aee48",
   "metadata": {},
   "outputs": [],
   "source": []
  }
 ],
 "metadata": {
  "kernelspec": {
   "display_name": "Python 3 (ipykernel)",
   "language": "python",
   "name": "python3"
  },
  "language_info": {
   "codemirror_mode": {
    "name": "ipython",
    "version": 3
   },
   "file_extension": ".py",
   "mimetype": "text/x-python",
   "name": "python",
   "nbconvert_exporter": "python",
   "pygments_lexer": "ipython3",
   "version": "3.10.4"
  }
 },
 "nbformat": 4,
 "nbformat_minor": 5
}
